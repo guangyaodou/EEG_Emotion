{
 "cells": [
  {
   "cell_type": "code",
   "execution_count": null,
   "id": "63765a05",
   "metadata": {},
   "outputs": [],
   "source": [
    "import pandas as pd\n",
    "import numpy as np"
   ]
  },
  {
   "cell_type": "code",
   "execution_count": null,
   "id": "11d6e4d8",
   "metadata": {},
   "outputs": [],
   "source": [
    "subject_id = \"21\"\n",
    "\n",
    "\n",
    "subject_behavior = pd.read_csv(\n",
    "    f\"Eventmarker_Behavior_Data/subject_{subject_id}/{subject_id}_pilot_study.csv\")\n",
    "\n",
    "#remove first two lines\n",
    "subject_behavior = subject_behavior.iloc[2:].reset_index(drop=True)"
   ]
  },
  {
   "cell_type": "code",
   "execution_count": null,
   "id": "3705cdb9",
   "metadata": {},
   "outputs": [],
   "source": [
    "# select the first 120 lines of behavior data\n",
    "df = subject_behavior.iloc[:120]"
   ]
  },
  {
   "cell_type": "code",
   "execution_count": null,
   "id": "255b33e6",
   "metadata": {},
   "outputs": [],
   "source": [
    "new_column = []\n",
    "for i in df[\"mouse.clicked_name\"]:\n",
    "    scale_level = int(i[-3])\n",
    "    if 1 <= scale_level and scale_level <= 3:\n",
    "        new_column.append(\"negative\")\n",
    "    elif 4 <= scale_level and scale_level <= 6:\n",
    "        new_column.append(\"neutral\")\n",
    "    else:\n",
    "        new_column.append(\"positive\")\n",
    "assert len(new_column) == len(df[\"mouse.clicked_name\"])"
   ]
  },
  {
   "cell_type": "code",
   "execution_count": null,
   "id": "5a017310",
   "metadata": {},
   "outputs": [],
   "source": [
    "# Read original event marker\n",
    "event_marker = pd.read_csv(\n",
    "    f\"Eventmarker_Behavior_Data/subject_{subject_id}/{subject_id}_OriginalEventMarker.txt\", delim_whitespace=True)\n"
   ]
  },
  {
   "cell_type": "code",
   "execution_count": null,
   "id": "d08e4e4b",
   "metadata": {},
   "outputs": [],
   "source": [
    "event_marker = event_marker[(event_marker[\"type\"] == \"p\") | \n",
    "                            (event_marker[\"type\"] == \"u\") |\n",
    "                            (event_marker[\"type\"] == \"g\")].iloc[:120]"
   ]
  },
  {
   "cell_type": "code",
   "execution_count": null,
   "id": "8f8f9764",
   "metadata": {},
   "outputs": [],
   "source": [
    "event_marker"
   ]
  },
  {
   "cell_type": "code",
   "execution_count": null,
   "id": "db4291bb",
   "metadata": {},
   "outputs": [],
   "source": [
    "event_marker[\"type\"] = new_column"
   ]
  },
  {
   "cell_type": "code",
   "execution_count": null,
   "id": "e90ed615",
   "metadata": {},
   "outputs": [],
   "source": [
    "event_marker"
   ]
  },
  {
   "cell_type": "code",
   "execution_count": null,
   "id": "795c8296",
   "metadata": {},
   "outputs": [],
   "source": [
    "#specify path for export\n",
    "path = f'Eventmarker_Behavior_Data/subject_{subject_id}/{subject_id}_NewEventMarker.txt'\n",
    "\n",
    "#export DataFrame to text file\n",
    "with open(path, 'w') as f:\n",
    "    df_string = event_marker.to_string(index=False)\n",
    "    f.write(df_string)"
   ]
  }
 ],
 "metadata": {
  "kernelspec": {
   "display_name": "Python 3 (ipykernel)",
   "language": "python",
   "name": "python3"
  },
  "language_info": {
   "codemirror_mode": {
    "name": "ipython",
    "version": 3
   },
   "file_extension": ".py",
   "mimetype": "text/x-python",
   "name": "python",
   "nbconvert_exporter": "python",
   "pygments_lexer": "ipython3",
   "version": "3.8.8"
  }
 },
 "nbformat": 4,
 "nbformat_minor": 5
}
