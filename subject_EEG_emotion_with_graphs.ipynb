{
 "cells": [
  {
   "cell_type": "code",
   "execution_count": null,
   "id": "3747405a",
   "metadata": {},
   "outputs": [],
   "source": [
    "import pandas as pd\n",
    "import numpy as np\n",
    "import matplotlib.pyplot as plt\n",
    "from sklearn import metrics\n",
    "import matplotlib.pyplot as plt\n",
    "from sklearn import metrics\n",
    "\n",
    "from sklearn.neighbors import KNeighborsClassifier\n",
    "from sklearn.ensemble import RandomForestClassifier\n",
    "from sklearn.ensemble import AdaBoostClassifier\n",
    "from sklearn.ensemble import GradientBoostingClassifier\n",
    "from sklearn.discriminant_analysis import LinearDiscriminantAnalysis"
   ]
  },
  {
   "cell_type": "code",
   "execution_count": null,
   "id": "5e2622db",
   "metadata": {},
   "outputs": [],
   "source": [
    "remove_baseline_time = False\n",
    "# create a list of k folds\n",
    "number_of_folds = 10\n",
    "lower_bound = 10\n",
    "# upper_bound = 550 \n",
    "# Because we are cutting the length of each unit to match the length of power\n",
    "upper_bound = 450 \n",
    "power_length = 119\n",
    "\n",
    "# If true, we ignore neural case and only calssfiy between positive and negative\n",
    "binary_classification = False"
   ]
  },
  {
   "cell_type": "code",
   "execution_count": null,
   "id": "d06f2152",
   "metadata": {},
   "outputs": [],
   "source": [
    "def assign_units_to_folds(df, folds, lower_bound, upper_bound):\n",
    "    \"\"\"\n",
    "    Execute before k-fold cross-validation: extract each unit, assign it to different folds in order\n",
    "    df: The dataframe that contains data of each patient\n",
    "    lower_bound: Experiment time's lower bound indicating the beginning of each unit\n",
    "    upper_bound: Experiment time's upper bound indicating the ending of each unit\n",
    "    \"\"\"\n",
    "    num_folds = len(folds)\n",
    "    num_rows = len(df)\n",
    "    j = 1\n",
    "    i = fold_pointer = 0\n",
    "    while j <= num_rows - 1:\n",
    "        prev_time = df.iloc[j-1][\"Time\"]\n",
    "        time = df.iloc[j][\"Time\"]\n",
    "        # if the time jumps from upper_bound(250) to a time smaller than the lower_bound (-80)\n",
    "        # we find a unit\n",
    "        if(time < lower_bound and prev_time > upper_bound):\n",
    "            unit = df.iloc[i:j]\n",
    "            folds[fold_pointer].append(unit)\n",
    "            fold_pointer = (fold_pointer + 1) % num_folds\n",
    "            i = j\n",
    "        j = j + 1\n",
    "    last_unit = df.iloc[i : j]\n",
    "    folds[fold_pointer].append(last_unit)\n",
    "    \n",
    "def concat_dataframes(fold_list, remove_columns_names):\n",
    "    \"\"\"\n",
    "    concatenate lists of dataframes to one dataframe and drop the specified columns if needed\n",
    "    fold_list: a list of folds \n",
    "    remove_columns_names: a list of names of columns you want to exclude\n",
    "    \"\"\"\n",
    "    folds_concat = []\n",
    "    for fold in fold_list:\n",
    "        folds_concat.append(pd.concat(fold, ignore_index=True).drop(columns=remove_columns_names))\n",
    "    return folds_concat\n",
    "\n",
    "def get_features(subject_data):\n",
    "    column_names = subject_data.columns\n",
    "    alpha_columns = [i for i in column_names if \"alpha\" in i]\n",
    "    beta_columns = [i for i in column_names if \"beta\" in i]\n",
    "    theta_columns = [i for i in column_names if \"theta\" in i]\n",
    "    \n",
    "    alpha = subject_data.loc[:, alpha_columns]\n",
    "    beta = subject_data.loc[:, beta_columns]\n",
    "    theta = subject_data.loc[:, theta_columns]\n",
    "    \n",
    "    alpha_std = np.std(alpha, axis=1)\n",
    "    beta_std = np.std(beta, axis=1)\n",
    "    theta_std = np.std(theta, axis=1)\n",
    "    \n",
    "    alpha_mean = np.mean(alpha, axis=1)\n",
    "    beta_mean = np.mean(beta, axis=1)\n",
    "    theta_mean = np.mean(theta, axis=1)\n",
    "    \n",
    "    #Concate feature\n",
    "    feature = np.array([theta_std,theta_mean,alpha_std,alpha_mean,beta_std,beta_mean])\n",
    "    feature = feature.T\n",
    "\n",
    "    return feature\n",
    "\n",
    "def match_power(df, df_power):\n",
    "    res = pd.DataFrame()\n",
    "    zero_idx = df.index[df['Time'] == 0].tolist()\n",
    "    for idx in zero_idx:\n",
    "        df_temp = df.iloc[idx:idx + power_length, :]\n",
    "        res = pd.concat([res, df_temp], axis=0)\n",
    "    res = res.reset_index()\n",
    "#     df_power.rename(columns={\"0\": \"TP9\", \"1: \"AF7\", 2:\"AF8\", 3:\"TP10\"})\n",
    "    df_power = df_power.set_axis([\"TP9_Power\", \"AF7_Power\", \"AF8_Power\", \"TP10_Power\"], axis=1)\n",
    "                \n",
    "    df_res = pd.concat([res, df_power], axis=1)\n",
    "    return df_res"
   ]
  },
  {
   "cell_type": "code",
   "execution_count": null,
   "id": "52c20eb5",
   "metadata": {},
   "outputs": [],
   "source": [
    "# Read negative, neutral, and positive data from data folder\n",
    "subject_id = \"02\"\n",
    "states = [\"neg\", \"neu\", \"pos\"]\n",
    "bands = [\"alpha\", \"beta\", \"theta\"]\n",
    "neg_neu_pos = []\n",
    "    \n",
    "for state in states:\n",
    "    df = pd.DataFrame()\n",
    "    for band in bands:\n",
    "        df_temp = pd.read_csv(f\"data/{subject_id}{state}_filt_{band}.csv\")\n",
    "        df_temp = df_temp.rename(columns={\"TP9\":f\"TP9_{band}\",\n",
    "                                          \"AF7\":f\"AF7_{band}\",\n",
    "                                          \"AF8\":f\"AF8_{band}\",\n",
    "                                          \"TP10\":f\"TP10_{band}\"})\n",
    "        # remove the time column for beta and theta\n",
    "        if band in [\"beta\", \"theta\"]:\n",
    "            df_temp = df_temp.drop([f\"Time\"], axis=1)\n",
    "    \n",
    "        df = pd.concat([df, df_temp], axis=1)\n",
    "    neg_neu_pos.append(df)\n",
    "\n",
    "subject_negative = neg_neu_pos[-1]\n",
    "subject_neutral = neg_neu_pos[0]\n",
    "subject_positive = neg_neu_pos[1]"
   ]
  },
  {
   "cell_type": "code",
   "execution_count": null,
   "id": "5ff25132",
   "metadata": {},
   "outputs": [],
   "source": [
    "neg_power = pd.read_csv(f\"data/{subject_id}neg_Alpha_Power.csv\", header = None)\n",
    "neg_power = neg_power.transpose()\n",
    "\n",
    "neu_power = pd.read_csv(f\"data/{subject_id}neu_Alpha_Power.csv\", header = None)\n",
    "neu_power = neu_power.transpose()\n",
    "\n",
    "pos_power = pd.read_csv(f\"data/{subject_id}pos_Alpha_Power.csv\", header = None)\n",
    "pos_power = pos_power.transpose()"
   ]
  },
  {
   "cell_type": "code",
   "execution_count": null,
   "id": "899fc78f",
   "metadata": {},
   "outputs": [],
   "source": [
    "neg_power.tail()"
   ]
  },
  {
   "cell_type": "code",
   "execution_count": null,
   "id": "23d0f739",
   "metadata": {},
   "outputs": [],
   "source": [
    "subject_negative = match_power(subject_negative, neg_power)\n",
    "subject_negative = subject_negative.drop(columns = [\"index\"])\n",
    "\n",
    "subject_neutral = match_power(subject_neutral, neu_power)\n",
    "subject_neutral = subject_neutral.drop(columns = [\"index\"])\n",
    "\n",
    "subject_positive = match_power(subject_positive, pos_power)\n",
    "subject_positive = subject_positive.drop(columns = [\"index\"])"
   ]
  },
  {
   "cell_type": "code",
   "execution_count": null,
   "id": "ad8fba41",
   "metadata": {},
   "outputs": [],
   "source": [
    "# Suppose negative = -1; neutral = 0, and positive = 1\n",
    "subject_negative[\"y\"] = -1\n",
    "subject_neutral[\"y\"] = 0\n",
    "subject_positive[\"y\"] = 1\n",
    "\n",
    "# Concatenate all three datasets\n",
    "subject_data = pd.concat([subject_negative, subject_neutral, subject_positive], ignore_index=True)\n",
    "\n",
    "if remove_baseline_time:\n",
    "    subject_data = subject_data.loc[subject_data[\"Time\"] > 0]\n",
    "subject_data = subject_data.reset_index(drop=True)"
   ]
  },
  {
   "cell_type": "code",
   "execution_count": null,
   "id": "7a55a062",
   "metadata": {},
   "outputs": [],
   "source": [
    "# feature = get_features(subject_data)\n",
    "# df_newFeature = pd.DataFrame(feature, columns = ['theta_std','theta_mean','alpha_std',\n",
    "#                                                  'alpha_mean','beta_std','beta_mean'\n",
    "#                                                 ])\n",
    "# df = pd.concat([subject_data, df_newFeature], axis=1)\n",
    "df=subject_data\n",
    "len(df)"
   ]
  },
  {
   "cell_type": "code",
   "execution_count": null,
   "id": "fa7aed90",
   "metadata": {},
   "outputs": [],
   "source": [
    "df.head()"
   ]
  },
  {
   "cell_type": "code",
   "execution_count": null,
   "id": "7176e3ac",
   "metadata": {},
   "outputs": [],
   "source": [
    "# Calculate Frontal Alpha Asymmetry\n",
    "power_AF8 = np.array(df[\"AF8_Power\"])\n",
    "power_AF7 = np.array(df[\"AF7_Power\"])\n",
    "#frontal_alpha_asymmetry = np.log(power_AF8 - power_AF7)\n",
    "#df[\"frontal_alpha_asymmetry\"] = frontal_alpha_asymmetry\n",
    "df=df.dropna()\n",
    "#df[\"frontal_alpha_asymmetry\"] = df[\"frontal_alpha_asymmetry\"].fillna(0)"
   ]
  },
  {
   "cell_type": "code",
   "execution_count": null,
   "id": "405a2727",
   "metadata": {},
   "outputs": [],
   "source": [
    "df.tail()"
   ]
  },
  {
   "cell_type": "code",
   "execution_count": null,
   "id": "6782cb3e",
   "metadata": {},
   "outputs": [],
   "source": [
    "df.describe()"
   ]
  },
  {
   "cell_type": "code",
   "execution_count": null,
   "id": "b5f786e1",
   "metadata": {},
   "outputs": [],
   "source": [
    "df.isnull().values.any()"
   ]
  },
  {
   "cell_type": "code",
   "execution_count": null,
   "id": "1fa00476",
   "metadata": {},
   "outputs": [],
   "source": [
    "#y_column = df.pop(\"y\")\n",
    "#df[\"y\"] = y_column.replace(np.nan, 0)\n",
    "y_column=df[\"y\"]"
   ]
  },
  {
   "cell_type": "code",
   "execution_count": null,
   "id": "1778456d",
   "metadata": {},
   "outputs": [],
   "source": [
    "len(y_column)"
   ]
  },
  {
   "cell_type": "code",
   "execution_count": null,
   "id": "bc424b72",
   "metadata": {},
   "outputs": [],
   "source": [
    "number_of_neighbors = 10\n",
    "if binary_classification:\n",
    "    df = df[df['y'] != 0]\n",
    "    #number_of_neighbors = 2\n",
    "folds = [[] for i in range(number_of_folds)]\n",
    "assign_units_to_folds(df, folds, lower_bound, upper_bound)\n",
    "columns = df.columns\n",
    "# Index(['Time', 'TP9_alpha', 'AF7_alpha', 'AF8_alpha', 'TP10_alpha', 'TP9_beta',\n",
    "#        'AF7_beta', 'AF8_beta', 'TP10_beta', 'TP9_theta', 'AF7_theta',\n",
    "#        'AF8_theta', 'TP10_theta', 'theta_std', 'theta_mean', 'alpha_std',\n",
    "#        'alpha_mean', 'beta_std', 'beta_mean', 'y'],\n",
    "columns_to_remove = []\n",
    "columns_to_remove.append(columns[0])\n",
    "columns_to_remove.extend([i for i in columns if \"TP\" in i])\n",
    "\n",
    "\n",
    "#columns_to_remove.extend(columns[0:12])\n",
    "print(\"Columns removed\", columns_to_remove)\n",
    "folds_concat = concat_dataframes(folds, columns_to_remove)"
   ]
  },
  {
   "cell_type": "code",
   "execution_count": null,
   "id": "d52573bc",
   "metadata": {},
   "outputs": [],
   "source": [
    "pd.concat(folds_concat[:-1], ignore_index=True)"
   ]
  },
  {
   "cell_type": "code",
   "execution_count": null,
   "id": "97170931",
   "metadata": {},
   "outputs": [],
   "source": [
    "names = [\n",
    "   # \"Adaboost\",\n",
    "     \"RandomForest\",\n",
    "    # \"GradientBoost\",\n",
    "    #'Nearest Neighbors',\n",
    "  # 'LDA',\n",
    "]\n",
    "\n",
    "aTreeClassifier=RandomForestClassifier(n_estimators=100, max_features=\"sqrt\", oob_score=True)\n",
    "acc_res = {}\n",
    "for name in names:\n",
    "    accuracy_lst = []\n",
    "    for _ in range(number_of_folds):\n",
    "        if name == \"Adaboost\":\n",
    "            clf = AdaBoostClassifier()\n",
    "        if name == \"RandomForest\":\n",
    "            clf = RandomForestClassifier(n_estimators=100, max_features=\"sqrt\", oob_score=True)\n",
    "        if name == \"GradientBoost\":\n",
    "            clf = GradientBoostingClassifier()\n",
    "        if name == 'Nearest Neighbors':\n",
    "            clf = KNeighborsClassifier(n_neighbors=number_of_neighbors)\n",
    "        if name == \"LDA\":\n",
    "            clf = LinearDiscriminantAnalysis(solver='lsqr', shrinkage='auto')\n",
    "        train_data = pd.concat(folds_concat[:-1], ignore_index=True)\n",
    "        # take the last fold as the test set\n",
    "        test_data = folds_concat[-1]\n",
    "        # move the last fold to the beginning of the list of folds\n",
    "        folds_concat = folds_concat[-1:] + folds_concat[:-1]\n",
    "        train_X = train_data.iloc[:, :-1]\n",
    "        train_Y = train_data.iloc[:, -1]\n",
    "        test_X = test_data.iloc[:, :-1]\n",
    "        test_Y = test_data.iloc[:, -1]\n",
    "        clf.fit(train_X, train_Y)\n",
    "        if name == \"RandomForest\":\n",
    "            aTreeClassifier = clf\n",
    "        y_predict = clf.predict(test_X)\n",
    "        accuracy = metrics.accuracy_score(y_predict,test_Y)\n",
    "        accuracy_lst.append(accuracy)\n",
    "    avg_acc = round(sum(accuracy_lst) / len(accuracy_lst),3)\n",
    "    acc_res[name] = avg_acc\n",
    "    print(f\"{name} yields accuracy of {avg_acc}\")"
   ]
  },
  {
   "cell_type": "code",
   "execution_count": null,
   "id": "b946f45f",
   "metadata": {},
   "outputs": [],
   "source": [
    "train_X"
   ]
  },
  {
   "cell_type": "code",
   "execution_count": null,
   "id": "b80811f5",
   "metadata": {},
   "outputs": [],
   "source": [
    "from sklearn.model_selection import train_test_split\n",
    "from sklearn import tree\n",
    "x=df[['AF7_Power', 'AF8_Power']] \n",
    "y=df['y']# split data randomly\n",
    "X_train, X_test, Y_train, Y_test = train_test_split(x, y, test_size=0.4, random_state = 135)\n",
    "#Models:\n",
    "#1. trees\n",
    "# aTreeClassifier1 = tree.DecisionTreeClassifier(max_depth=5)\n",
    "# aTreeClassifier1 = aTreeClassifier1.fit(X_train, Y_train)\n",
    "# Y_pred = aTreeClassifier1.predict( X_test )\n",
    "\n",
    "aTreeClassifier = tree.DecisionTreeClassifier(max_depth=5)\n",
    "aTreeClassifier = aTreeClassifier.fit(X_train, Y_train)\n",
    "Y_pred = aTreeClassifier.predict( X_test )\n",
    "\n",
    "print( 'Accuracy = ', sum( Y_pred == Y_test ) / len( Y_test ) )"
   ]
  },
  {
   "cell_type": "code",
   "execution_count": null,
   "id": "51578f5e",
   "metadata": {},
   "outputs": [],
   "source": [
    "import matplotlib.pyplot as plt\n",
    "from sklearn.tree import plot_tree\n",
    "\n",
    "# test = aTreeClassifier.estimators_[10]\n",
    "fig = plt.figure(figsize=(15, 10))\n",
    "# temp = aTreeClassifier.base_estimator_\n",
    "plot_tree(aTreeClassifier, \n",
    "#           feature_names=wine.feature_names,\n",
    "#           class_names=wine.target_names, \n",
    "          filled=True, impurity=True, \n",
    "          rounded=True)"
   ]
  },
  {
   "cell_type": "code",
   "execution_count": null,
   "id": "2c564622",
   "metadata": {},
   "outputs": [],
   "source": [
    "import matplotlib.pyplot as plt\n",
    "from matplotlib.colors import ListedColormap\n",
    "\n",
    "colors = ['r', 'g', 'b']\n",
    "X1, X2 = np.meshgrid(np.arange(start = test_X['AF7_Power'].min()-1, stop= test_X['AF7_Power'].max()+1, step = 0.01), np.arange(start = test_X['AF8_Power'].min()-1, stop= test_X['AF8_Power'].max()+1, step = 0.01))\n",
    "print(X1.shape)\n",
    "plt.contourf(X1, X2, aTreeClassifier.predict(np.array([X1.ravel(), X2.ravel()]).T).reshape(X1.shape), alpha=0.75, cmap = ListedColormap(colors))\n",
    "\n",
    "# plt.contourf(X1, X2, aTreeClassifier.predict(np.array([X1, X2])).reshape(X1.shape), alpha=0.75, cmap = ListedColormap(colors) )\n",
    "plt.xlim(X1.min(), X1.max())\n",
    "plt.ylim(X2.min(), X2.max())\n",
    "for i,j in enumerate(np.unique(test_Y)):\n",
    "    plt.scatter(test_X['AF7_Power'][test_Y==j], test_X['AF8_Power'][test_Y==j], color=colors[i], label = j)\n",
    "plt.title(\"Decision Tree Results (Test set)\")\n",
    "plt.xlabel(\"AF7_Power\")\n",
    "plt.ylabel(\"AF8_Power\")\n",
    "plt.legend()\n",
    "plt.show()"
   ]
  },
  {
   "cell_type": "code",
   "execution_count": null,
   "id": "42304be4",
   "metadata": {},
   "outputs": [],
   "source": []
  }
 ],
 "metadata": {
  "kernelspec": {
   "display_name": "Python 3 (ipykernel)",
   "language": "python",
   "name": "python3"
  },
  "language_info": {
   "codemirror_mode": {
    "name": "ipython",
    "version": 3
   },
   "file_extension": ".py",
   "mimetype": "text/x-python",
   "name": "python",
   "nbconvert_exporter": "python",
   "pygments_lexer": "ipython3",
   "version": "3.8.8"
  }
 },
 "nbformat": 4,
 "nbformat_minor": 5
}
